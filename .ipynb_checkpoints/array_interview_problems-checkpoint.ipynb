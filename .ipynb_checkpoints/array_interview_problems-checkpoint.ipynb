{
 "cells": [
  {
   "cell_type": "markdown",
   "metadata": {},
   "source": [
    "# Python Array Interview Questions"
   ]
  },
  {
   "cell_type": "code",
   "execution_count": 34,
   "metadata": {},
   "outputs": [],
   "source": [
    "\"\"\"\n",
    "Anagram: When two words use the same number of letters to spell another word\n",
    "\n",
    "god:dog\n",
    "clint eastwood:old west action\n",
    "\"\"\"\n",
    "import typing as ty\n",
    "\n",
    "def remove_space(spaced_str):\n",
    "    return spaced_str.replace(' ', '').lower()\n",
    "\n",
    "def ch_counter(word) -> dict:\n",
    "    character = {ch: 0 for ch in set(word)}\n",
    "    for ch in word:\n",
    "        character[ch] += 1\n",
    "    return character\n",
    "\n",
    "def anagram(s1, s2):    \n",
    "    return sorted(remove_space(s1)) == sorted(remove_space(s2))\n",
    "\n",
    "def anagram2(s1, s2):\n",
    "    return ch_counter(remove_space(s1)) == ch_counter(remove_space(s2))\n",
    "\n",
    "\n",
    "assert anagram('God', 'dog')\n",
    "assert anagram2('god', 'dog')\n",
    "assert anagram('clint eastwood', 'old west action')\n",
    "assert anagram2('clint eastwood', 'old west action')\n",
    "assert anagram('s', 'a') is False\n",
    "assert anagram2('s', 'a') is False\n",
    "assert anagram('s', '') is False\n",
    "assert anagram2('s', '') is False\n",
    "assert anagram('go go go', 'gggooo')\n",
    "assert anagram2('go go go', 'gggooo')\n"
   ]
  },
  {
   "cell_type": "code",
   "execution_count": 45,
   "metadata": {},
   "outputs": [
    {
     "ename": "ModuleNotFoundError",
     "evalue": "No module named 'nose'",
     "output_type": "error",
     "traceback": [
      "\u001b[0;31m---------------------------------------------------------------------------\u001b[0m",
      "\u001b[0;31mModuleNotFoundError\u001b[0m                       Traceback (most recent call last)",
      "\u001b[0;32m<ipython-input-45-224ced601f6b>\u001b[0m in \u001b[0;36m<module>\u001b[0;34m\u001b[0m\n\u001b[1;32m     14\u001b[0m \u001b[0mRUN\u001b[0m \u001b[0mTHIS\u001b[0m \u001b[0mCELL\u001b[0m \u001b[0mTO\u001b[0m \u001b[0mTEST\u001b[0m \u001b[0mYOUR\u001b[0m \u001b[0mSOLUTION\u001b[0m\u001b[0;34m\u001b[0m\u001b[0;34m\u001b[0m\u001b[0m\n\u001b[1;32m     15\u001b[0m \"\"\"\n\u001b[0;32m---> 16\u001b[0;31m \u001b[0;32mfrom\u001b[0m \u001b[0mnose\u001b[0m\u001b[0;34m.\u001b[0m\u001b[0mtools\u001b[0m \u001b[0;32mimport\u001b[0m \u001b[0massert_equal\u001b[0m\u001b[0;34m\u001b[0m\u001b[0;34m\u001b[0m\u001b[0m\n\u001b[0m\u001b[1;32m     17\u001b[0m \u001b[0;34m\u001b[0m\u001b[0m\n\u001b[1;32m     18\u001b[0m \u001b[0;32mclass\u001b[0m \u001b[0mTestPair\u001b[0m\u001b[0;34m(\u001b[0m\u001b[0mobject\u001b[0m\u001b[0;34m)\u001b[0m\u001b[0;34m:\u001b[0m\u001b[0;34m\u001b[0m\u001b[0;34m\u001b[0m\u001b[0m\n",
      "\u001b[0;31mModuleNotFoundError\u001b[0m: No module named 'nose'"
     ]
    }
   ],
   "source": [
    "\"\"\"\n",
    "Array Sum: \n",
    "\"\"\"\n",
    "def sum_pairs_brute(pairs: ty.Collection[int], k: int) -> ty.Collection:\n",
    "    matches = 0\n",
    "    for i in range(len(pairs)):\n",
    "        for j in range(i+1, len(pairs)):\n",
    "            if pairs[i] + pairs[j] == k:\n",
    "                matches += 1\n",
    "    return matches  \n",
    "\n",
    "    \n",
    "\"\"\"\n",
    "RUN THIS CELL TO TEST YOUR SOLUTION\n",
    "\"\"\"\n",
    "from nose.tools import assert_equal\n",
    "\n",
    "class TestPair(object):\n",
    "    \n",
    "    def test(self,sol):\n",
    "        assert_equal(sum_pairs_brute([1,9,2,8,3,7,4,6,5,5,13,14,11,13,-1],10),6)\n",
    "        assert_equal(sum_pairs_brute([1,2,3,1],3),1)\n",
    "        assert_equal(sum_pairs_brute([1,3,2,2],4),2)\n",
    "        print('ALL TEST CASES PASSED')\n",
    "        \n",
    "#Run tests\n",
    "t = TestPair()\n",
    "t.test(pair_sum)"
   ]
  },
  {
   "cell_type": "code",
   "execution_count": null,
   "metadata": {},
   "outputs": [],
   "source": []
  }
 ],
 "metadata": {
  "kernelspec": {
   "display_name": "Python 3",
   "language": "python",
   "name": "python3"
  },
  "language_info": {
   "codemirror_mode": {
    "name": "ipython",
    "version": 3
   },
   "file_extension": ".py",
   "mimetype": "text/x-python",
   "name": "python",
   "nbconvert_exporter": "python",
   "pygments_lexer": "ipython3",
   "version": "3.8.6"
  }
 },
 "nbformat": 4,
 "nbformat_minor": 4
}

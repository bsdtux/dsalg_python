{
 "cells": [
  {
   "cell_type": "markdown",
   "metadata": {},
   "source": [
    "# Python Array Interview Questions"
   ]
  },
  {
   "cell_type": "code",
   "execution_count": 1,
   "metadata": {},
   "outputs": [],
   "source": [
    "\"\"\"\n",
    "Anagram: When two words use the same number of letters to spell another word\n",
    "\n",
    "god:dog\n",
    "clint eastwood:old west action\n",
    "\"\"\"\n",
    "import typing as ty\n",
    "\n",
    "def remove_space(spaced_str):\n",
    "    return spaced_str.replace(' ', '').lower()\n",
    "\n",
    "def ch_counter(word) -> dict:\n",
    "    character = {ch: 0 for ch in set(word)}\n",
    "    for ch in word:\n",
    "        character[ch] += 1\n",
    "    return character\n",
    "\n",
    "def anagram(s1, s2):    \n",
    "    return sorted(remove_space(s1)) == sorted(remove_space(s2))\n",
    "\n",
    "def anagram2(s1, s2):\n",
    "    return ch_counter(remove_space(s1)) == ch_counter(remove_space(s2))\n",
    "\n",
    "\n",
    "assert anagram('God', 'dog')\n",
    "assert anagram2('god', 'dog')\n",
    "assert anagram('clint eastwood', 'old west action')\n",
    "assert anagram2('clint eastwood', 'old west action')\n",
    "assert anagram('s', 'a') is False\n",
    "assert anagram2('s', 'a') is False\n",
    "assert anagram('s', '') is False\n",
    "assert anagram2('s', '') is False\n",
    "assert anagram('go go go', 'gggooo')\n",
    "assert anagram2('go go go', 'gggooo')\n"
   ]
  },
  {
   "cell_type": "code",
   "execution_count": 8,
   "metadata": {},
   "outputs": [
    {
     "name": "stdout",
     "output_type": "stream",
     "text": [
      "ALL TEST CASES PASSED\n"
     ]
    }
   ],
   "source": [
    "\"\"\"\n",
    "Array Sum: \n",
    "\"\"\"\n",
    "def sum_pairs(pairs: ty.Collection[int], k: int) -> ty.Collection:\n",
    "    if len(pairs) < 2:\n",
    "        return\n",
    "    \n",
    "    seen = set()\n",
    "    output = set()\n",
    "    \n",
    "    for num in pairs:\n",
    "        target = k - num\n",
    "        \n",
    "        if target not in seen:\n",
    "            seen.add(num)\n",
    "        else:\n",
    "            output.add( (min(num, target), max(num, target)) )\n",
    "    return len(output)\n",
    "\n",
    "    \n",
    "\"\"\"\n",
    "RUN THIS CELL TO TEST YOUR SOLUTION\n",
    "\"\"\"\n",
    "from nose.tools import assert_equal\n",
    "\n",
    "class TestPair(object):\n",
    "    \n",
    "    def test(self,sol):\n",
    "        assert_equal(sol([1,9,2,8,3,7,4,6,5,5,13,14,11,13,-1],10),6)\n",
    "        assert_equal(sol([1,2,3,1],3),1)\n",
    "        assert_equal(sol([1,3,2,2,2,1],4),2)\n",
    "        print('ALL TEST CASES PASSED')\n",
    "        \n",
    "#Run tests\n",
    "t = TestPair()\n",
    "t.test(sum_pairs)"
   ]
  },
  {
   "cell_type": "code",
   "execution_count": 10,
   "metadata": {},
   "outputs": [
    {
     "name": "stdout",
     "output_type": "stream",
     "text": [
      "ALL TEST CASES PASSED\n"
     ]
    }
   ],
   "source": [
    "\"\"\"\n",
    "Find the missing element\n",
    "\"\"\"\n",
    "def finder(arr1, arr2):\n",
    "    arr1_sorted = sorted(arr1)\n",
    "    arr2_sorted = sorted(arr2)\n",
    "    \n",
    "    for i in range(len(arr1_sorted)):\n",
    "        if arr1_sorted[i] != arr2_sorted[i]:\n",
    "            return arr1_sorted[i]\n",
    "    return None\n",
    "\n",
    "\"\"\"\n",
    "RUN THIS CELL TO TEST YOUR SOLUTION\n",
    "\"\"\"\n",
    "from nose.tools import assert_equal\n",
    "\n",
    "class TestFinder(object):\n",
    "    \n",
    "    def test(self,sol):\n",
    "        assert_equal(sol([5,5,7,7],[5,7,7]),5)\n",
    "        assert_equal(sol([1,2,3,4,5,6,7],[3,7,2,1,4,6]),5)\n",
    "        assert_equal(sol([9,8,7,6,5,4,3,2,1],[9,8,7,5,4,3,2,1]),6)\n",
    "        print('ALL TEST CASES PASSED')\n",
    "\n",
    "# Run test\n",
    "t = TestFinder()\n",
    "t.test(finder)\n"
   ]
  },
  {
   "cell_type": "code",
   "execution_count": 16,
   "metadata": {},
   "outputs": [
    {
     "name": "stdout",
     "output_type": "stream",
     "text": [
      "ALL TEST CASES PASSED\n"
     ]
    }
   ],
   "source": [
    "\"\"\"\n",
    "Find Max Contigous Sum\n",
    "\"\"\"\n",
    "def largest_cont_sum(arr):\n",
    "    if len(arr) == 0:\n",
    "        return 0\n",
    "    \n",
    "    max_sum = current_sum = arr[0]\n",
    "    \n",
    "    for n in arr[1:]:\n",
    "        current_sum = current_sum + n if current_sum + n > n else n\n",
    "        max_sum = current_sum if current_sum > max_sum else max_sum\n",
    "\n",
    "    return max_sum\n",
    "\n",
    "from nose.tools import assert_equal\n",
    "\n",
    "class LargeContTest(object):\n",
    "    def test(self,sol):\n",
    "        assert_equal(sol([-1,1]),1)\n",
    "        assert_equal(sol([1,2,-1,3,4,-1]),9)\n",
    "        assert_equal(sol([1,2,-1,3,4,10,10,-10,-1]),29)\n",
    "        print ('ALL TEST CASES PASSED')\n",
    "        \n",
    "#Run Test\n",
    "t = LargeContTest()\n",
    "t.test(largest_cont_sum)"
   ]
  },
  {
   "cell_type": "code",
   "execution_count": 30,
   "metadata": {},
   "outputs": [
    {
     "name": "stdout",
     "output_type": "stream",
     "text": [
      "ALL TEST CASES PASSED\n"
     ]
    }
   ],
   "source": [
    "\"\"\"\n",
    "Word Reversal:\n",
    "\"\"\"\n",
    "import re\n",
    "def rev_word(word):\n",
    "    word = re.sub(r'\\s+', ' ', word)\n",
    "    word_split = word.split()\n",
    "    word_reversed = list()\n",
    "    \n",
    "    for i in range(len(word_split) -1, -1, -1):\n",
    "        word_reversed.append(word_split[i])\n",
    "    \n",
    "    return ' '.join(word_reversed)\n",
    "\n",
    "\"\"\"\n",
    "RUN THIS CELL TO TEST YOUR SOLUTION\n",
    "\"\"\"\n",
    "\n",
    "from nose.tools import assert_equal\n",
    "\n",
    "class ReversalTest(object):\n",
    "    \n",
    "    def test(self,sol):\n",
    "        assert_equal(sol('    space before'),'before space')\n",
    "        assert_equal(sol('space after     '),'after space')\n",
    "        assert_equal(sol('   Hello John    how are you   '),'you are how John Hello')\n",
    "        assert_equal(sol('1'),'1')\n",
    "        print (\"ALL TEST CASES PASSED\")\n",
    "        \n",
    "# Run and test\n",
    "t = ReversalTest()\n",
    "t.test(rev_word)"
   ]
  },
  {
   "cell_type": "code",
   "execution_count": 41,
   "metadata": {},
   "outputs": [
    {
     "name": "stdout",
     "output_type": "stream",
     "text": [
      "ALL TEST CASES PASSED\n"
     ]
    }
   ],
   "source": [
    "\"\"\"\n",
    "Compress String\n",
    "\"\"\"\n",
    "def compress(string):\n",
    "    if not string:\n",
    "        return ''\n",
    "    \n",
    "    current_letter = string[0]\n",
    "    current_letter_count = 0\n",
    "    comp_str = ''\n",
    "    for ch in string:\n",
    "        if ch == current_letter:\n",
    "            current_letter_count += 1\n",
    "        else:\n",
    "            comp_str += f'{current_letter}{current_letter_count}'\n",
    "            current_letter = ch\n",
    "            current_letter_count = 1\n",
    "    comp_str += f'{current_letter}{current_letter_count}'\n",
    "    \n",
    "    return comp_str\n",
    "\n",
    "from nose.tools import assert_equal\n",
    "\n",
    "class TestCompress(object):\n",
    "\n",
    "    def test(self, sol):\n",
    "        assert_equal(sol(''), '')\n",
    "        assert_equal(sol('AABBCC'), 'A2B2C2')\n",
    "        assert_equal(sol('AAABCCDDDDD'), 'A3B1C2D5')\n",
    "        print ('ALL TEST CASES PASSED')\n",
    "\n",
    "# Run Tests\n",
    "t = TestCompress()\n",
    "t.test(compress)"
   ]
  },
  {
   "cell_type": "code",
   "execution_count": 40,
   "metadata": {},
   "outputs": [
    {
     "name": "stdout",
     "output_type": "stream",
     "text": [
      "ALL TEST CASES PASSED\n",
      "ALL TEST CASES PASSED\n"
     ]
    }
   ],
   "source": [
    "\"\"\"\n",
    "Unique Character\n",
    "\"\"\"\n",
    "def uni_char(string):\n",
    "    if string == '':\n",
    "        return True\n",
    "    \n",
    "    chars = set()\n",
    "    \n",
    "    for letter in string:\n",
    "        if letter in chars:\n",
    "            return False\n",
    "        else:\n",
    "            chars.add(letter)\n",
    "    return True\n",
    "        \n",
    "def uni_char2(string):\n",
    "    return len(string) == len(set(string))\n",
    "    \n",
    "\"\"\"\n",
    "RUN THIS CELL TO TEST YOUR CODE>\n",
    "\"\"\"\n",
    "from nose.tools import assert_equal\n",
    "\n",
    "\n",
    "class TestUnique(object):\n",
    "\n",
    "    def test(self, sol):\n",
    "        assert_equal(sol(''), True)\n",
    "        assert_equal(sol('goo'), False)\n",
    "        assert_equal(sol('ogo'), False)        \n",
    "        assert_equal(sol('abcdefg'), True)\n",
    "        print ('ALL TEST CASES PASSED')\n",
    "        \n",
    "# Run Tests\n",
    "t = TestUnique()\n",
    "t.test(uni_char)\n",
    "t.test(uni_char2)"
   ]
  },
  {
   "cell_type": "code",
   "execution_count": null,
   "metadata": {},
   "outputs": [],
   "source": []
  }
 ],
 "metadata": {
  "kernelspec": {
   "display_name": "Python 3",
   "language": "python",
   "name": "python3"
  },
  "language_info": {
   "codemirror_mode": {
    "name": "ipython",
    "version": 3
   },
   "file_extension": ".py",
   "mimetype": "text/x-python",
   "name": "python",
   "nbconvert_exporter": "python",
   "pygments_lexer": "ipython3",
   "version": "3.8.6"
  }
 },
 "nbformat": 4,
 "nbformat_minor": 4
}
